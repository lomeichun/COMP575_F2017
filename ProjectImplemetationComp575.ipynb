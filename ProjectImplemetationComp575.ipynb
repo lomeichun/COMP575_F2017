{
 "cells": [
  {
   "cell_type": "code",
   "execution_count": 91,
   "metadata": {
    "collapsed": true
   },
   "outputs": [],
   "source": [

    "from pprint import pprint\n",
    "from numpy import array, zeros, diag, diagflat, dot"
   ]
  },
  {
   "cell_type": "code",
   "execution_count": 92,
   "metadata": {
    "collapsed": true
   },
   "outputs": [],
   "source": [
    "##Solves the equation Ax=b via the Jacobi iterative method # Create an initial guess if needed\n",
    "def jacobi(A,b,N=50,x=None, info=True):\n",
    "\n",
    "    if x is None:\n",
    "        x = zeros(len(A[0]))\n",
    "# Create a vector of the diagonal elements of A # and subtract them from A\n",
    "    D = diag(A)\n",
    "    R = A - diagflat(D)\n",
    "    # Iterate for N times\n",
    "    for i in range(N):\n",
    "        x = (b - dot(R,x))/D\n",
    "        if info:\n",
    "            pprint(x)\n",
    "    return x"
   ]
  },
  {
   "cell_type": "code",
   "execution_count": null,
   "metadata": {
    "collapsed": true
   },
   "outputs": [],
   "source": []
  },
  {
   "cell_type": "code",
   "execution_count": 93,
   "metadata": {},
   "outputs": [
    {
     "name": "stdout",
     "output_type": "stream",
     "text": [
      "array([ 1.75 ,  3.375,  3.   ])\n",
      "array([ 1.84375,  3.875  ,  3.025  ])\n",
      "array([ 1.9625,  3.925 ,  2.9625])\n",
      "array([ 1.990625 ,  3.9765625,  3.       ])\n",
      "array([ 1.99414062,  3.9953125 ,  3.0009375 ])\n",
      "array([ 1.99859375,  3.9971875 ,  2.99859375])\n",
      "array([ 1.99964844,  3.99912109,  3.        ])\n",
      "array([ 1.99978027,  3.99982422,  3.00003516])\n",
      "array([ 1.99994727,  3.99989453,  2.99994727])\n",
      "array([ 1.99998682,  3.99996704,  3.        ])\n",
      "array([ 1.99999176,  3.99999341,  3.00000132])\n",
      "array([ 1.99999802,  3.99999604,  2.99999802])\n",
      "array([ 1.99999951,  3.99999876,  3.        ])\n",
      "array([ 1.99999969,  3.99999975,  3.00000005])\n",
      "array([ 1.99999993,  3.99999985,  2.99999993])\n",
      "array([ 1.99999998,  3.99999995,  3.        ])\n",
      "array([ 1.99999999,  3.99999999,  3.        ])\n",
      "array([ 2.        ,  3.99999999,  3.        ])\n",
      "array([ 2.,  4.,  3.])\n",
      "array([ 2.,  4.,  3.])\n",
      "array([ 2.,  4.,  3.])\n",
      "array([ 2.,  4.,  3.])\n",
      "array([ 2.,  4.,  3.])\n",
      "array([ 2.,  4.,  3.])\n",
      "array([ 2.,  4.,  3.])\n",
      "array([ 2.,  4.,  3.])\n",
      "array([ 2.,  4.,  3.])\n",
      "array([ 2.,  4.,  3.])\n",
      "array([ 2.,  4.,  3.])\n",
      "array([ 2.,  4.,  3.])\n",
      "array([ 2.,  4.,  3.])\n",
      "array([ 2.,  4.,  3.])\n",
      "array([ 2.,  4.,  3.])\n",
      "array([ 2.,  4.,  3.])\n",
      "array([ 2.,  4.,  3.])\n",
      "array([ 2.,  4.,  3.])\n",
      "array([ 2.,  4.,  3.])\n",
      "array([ 2.,  4.,  3.])\n",
      "array([ 2.,  4.,  3.])\n",
      "array([ 2.,  4.,  3.])\n",
      "array([ 2.,  4.,  3.])\n",
      "array([ 2.,  4.,  3.])\n",
      "array([ 2.,  4.,  3.])\n",
      "array([ 2.,  4.,  3.])\n",
      "array([ 2.,  4.,  3.])\n",
      "array([ 2.,  4.,  3.])\n",
      "array([ 2.,  4.,  3.])\n",
      "array([ 2.,  4.,  3.])\n",
      "array([ 2.,  4.,  3.])\n",
      "array([ 2.,  4.,  3.])\n",
      "A:\n",
      "array([[ 4., -1.,  1.],\n",
      "       [ 4., -8.,  1.],\n",
      "       [-2.,  1.,  5.]])\n",
      "b:\n",
      "array([  7., -21.,  15.])\n",
      "x:\n",
      "array([ 2.,  4.,  3.])\n"
     ]
    }
   ],
   "source": [
    "# Set up problem here\n",
    "A = array([[4.0, -1.0, 1.0],[4.0, -8.0, 1.0] , [ -2.0, 1.0, 5.0]])# Matrix with \n",
    "b = array([7.0 , -21.0, 15.0])\n",
    "guess = array([1.0,2.0,2.0])\n",
    "# Solve\n",
    "sol = jacobi(A,b,N=50,x=guess)\n",
    "print (\"A:\")\n",
    "pprint(A)\n",
    "print (\"b:\")\n",
    "pprint(b)\n",
    "print (\"x:\")\n",
    "pprint(sol)"
   ]
  },
  {
   "cell_type": "code",
   "execution_count": 134,
   "metadata": {},
   "outputs": [
    {
     "name": "stdout",
     "output_type": "stream",
     "text": [
      "26.5869140625\n",
      "20.6105566406\n",
      "41.6910220869\n",
      "42.0367606014\n",
      "11.8888977222\n",
      "0.341160918975\n",
      "0.000169098607134\n",
      "3.81478080066e-11\n"
     ]
    }
   ],
   "source": [
    "A2 = array([[ 4, 1.0, 5.0], [4.0, -8.0, 1.0] , [4.0, -1.0, 5]])\n",
    "b2 = array([7.0 , -21.0, 15.0])\n",
    "guess = array([1.0,2.0,2.0])\n",
    "xold = 0\n",
    "errlst = []\n",
    "iterlst = [2, 4, 8, 16, 32, 64,128,256]\n",
    "for N in iterlst:\n",
    "    x = jacobi(A2, b2, N, info=False)\n",
    "    dx = dot(x - xold, x - xold)\n",
    "    print (dx)\n",
    "    errlst.append(dx)\n",
    "    xold = x.copy()"
   ]
  },
  {
   "cell_type": "code",
   "execution_count": 135,
   "metadata": {},
   "outputs": [
    {
     "name": "stdout",
     "output_type": "stream",
     "text": [
      "78.4921875\n",
      "98.0663146973\n",
      "106.929783883\n",
      "107.546598519\n",
      "107.549039742\n",
      "107.549039781\n",
      "107.549039781\n",
      "107.549039781\n"
     ]
    }
   ],
   "source": [
    "A3 = array([[4, -1.0, 1.0],[4.0, -4.0, 1.0] , [ -2.0, 1.0, 4]])\n",
    "b3 = array([7.0 , -21.0, 15.0])\n",
    "guess = array([1.0,2.0,2.0])\n",
    "xold = 0\n",
    "errlst3 = []\n",
    "iterlst3 = [2, 4, 8, 16, 32, 64,128,256]\n",
    "for N in iterlst3:\n",
    "    x1 = jacobi(A3, b3, N, info=False)\n",
    "    dx1 = dot(x1 - xold, x1 - xold)\n",
    "    print (dx1)\n",
    "    errlst3.append(dx1)\n",
    "    xold1 = x1.copy()"
   ]
  },
  {
   "cell_type": "code",
   "execution_count": 136,
   "metadata": {},
   "outputs": [
    {
     "name": "stdout",
     "output_type": "stream",
     "text": [
      "509.625\n",
      "1404.6953125\n",
      "4980.86672974\n",
      "19019.3358088\n",
      "74246.8724059\n",
      "294242.466086\n",
      "1171452.97308\n",
      "4674882.59887\n"
     ]
    }
   ],
   "source": [
    "A4 = array([[2.0, -1.0, 1.0],[4.0, -2.0, 1.0] , [ -2.0, 1.0, 2]])\n",
    "b4 = array([7.0 , -21.0, 15.0])\n",
    "guess = array([1.0,2.0,2.0])\n",
    "xold = 0\n",
    "errlst4 = []\n",
    "iterlst4 = [2, 4, 8, 16, 32, 64,128,256]\n",
    "for N in iterlst4:\n",
    "    x2 = jacobi(A4, b4, N, info=False)\n",
    "    dx2 = dot(x2 - xold, x2 - xold)\n",
    "    print (dx2)\n",
    "    errlst4.append(dx2)\n",
    "    xold2 = x2.copy()"
   ]
  },
  {
   "cell_type": "code",
   "execution_count": 139,
   "metadata": {},
   "outputs": [
    {
     "data": {
      "image/png": "[encoded data removed]",
      "text/plain": [
       "<matplotlib.figure.Figure at 0x11255dd30>"
      ]
     },
     "metadata": {},
     "output_type": "display_data"
    },
    {
     "name": "stdout",
     "output_type": "stream",
     "text": [
      "Since A2 matrix with high diagonally dominant,its error and the rate convergence of error with the number\n",
      "of iterations,which is better than A4 with least diagonally dominant. \n"
     ]
    }
   ],
   "source": [
    "import matplotlib.pyplot as plt\n",
    "# Plot\n",
    "plt.figure(1)\n",
    "plt.clf()\n",
    "plt.semilogy(iterlst, errlst, 'o-')\n",
    "plt.semilogy(iterlst3, errlst3, 'o-')\n",
    "plt.semilogy(iterlst4, errlst4, 'o-')\n",
    "plt.xlabel('number of iterations')\n",
    "plt.ylabel('error')\n",
    "plt.legend( ['A2: high diagonally dominat (4,-8,5)', 'A3: mild diagonally dominat (4,-4,4)', 'A4: least diagonally dominat (2,-2,2)'])\n",
    "\n",
    "plt.title('The convergence of the error with the number of iterations')\n",
    "plt.ylim()\n",
    "#plt.savefig(\"fig01-01.pdf\")\n",
    "plt.show()\n",
    "print('Since A2 matrix with high diagonally dominant,its error and the rate convergence of error with the number')\n",
    "print('of iterations,which is better than A4 with least diagonally dominant. ')\n"
   ]
  }
 ],
 "metadata": {
  "kernelspec": {
   "display_name": "Python 3",
   "language": "python",
   "name": "python3"
  },
  "language_info": {
   "codemirror_mode": {
    "name": "ipython",
    "version": 3
   },
   "file_extension": ".py",
   "mimetype": "text/x-python",
   "name": "python",
   "nbconvert_exporter": "python",
   "pygments_lexer": "ipython3",
   "version": "3.6.3"
  }
 },
 "nbformat": 4,
 "nbformat_minor": 2
}
